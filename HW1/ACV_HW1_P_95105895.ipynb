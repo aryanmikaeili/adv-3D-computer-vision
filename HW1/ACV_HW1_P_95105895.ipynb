{
 "cells": [
  {
   "cell_type": "code",
   "execution_count": 17,
   "metadata": {},
   "outputs": [],
   "source": [
    "import numpy as np\n",
    "import matplotlib.pyplot as plt\n",
    "from matplotlib.patches import Rectangle, Polygon\n",
    "from ipywidgets import widgets\n",
    "import cv2 as cv"
   ]
  },
  {
   "cell_type": "code",
   "execution_count": 59,
   "metadata": {},
   "outputs": [],
   "source": [
    "def plot_polygon(xy):\n",
    "    fig = plt.figure()\n",
    "\n",
    "    ax = fig.add_subplot()\n",
    "    ax.add_patch(Polygon(xy, fc = 'none', ec = 'b', lw = 2))\n",
    "\n",
    "    plt.xlim([-4, 4])\n",
    "    plt.ylim([-4, 4])\n",
    "    plt.gca().set_aspect('equal', adjustable='box')\n",
    "    plt.show()\n",
    "\n",
    "    "
   ]
  },
  {
   "cell_type": "code",
   "execution_count": 60,
   "metadata": {},
   "outputs": [
    {
     "data": {
      "image/png": "[encoded data removed]",
      "text/plain": [
       "<Figure size 432x288 with 1 Axes>"
      ]
     },
     "metadata": {
      "needs_background": "light"
     },
     "output_type": "display_data"
    }
   ],
   "source": [
    "Points = np.array([[-1, -1], [-1, 1], [1, 1], [1, -1]])\n",
    "plot_polygon(Points)"
   ]
  },
  {
   "cell_type": "markdown",
   "metadata": {},
   "source": [
    "# Rigid Body transformation"
   ]
  },
  {
   "cell_type": "code",
   "execution_count": 189,
   "metadata": {},
   "outputs": [
    {
     "data": {
      "application/vnd.jupyter.widget-view+json": {
       "model_id": "b78bfb40c85646b6b052090b92ff5970",
       "version_major": 2,
       "version_minor": 0
      },
      "text/plain": [
       "interactive(children=(FloatSlider(value=0.0, description='theta', max=3.141592653589793), FloatSlider(value=0.…"
      ]
     },
     "metadata": {},
     "output_type": "display_data"
    }
   ],
   "source": [
    "def rigid_body_transform(theta, translate_x, translate_y):\n",
    "    translate = np.array([translate_x, translate_y])\n",
    "    rotation_matrix = np.array([[np.cos(theta), -np.sin(theta)], [np.sin(theta), np.cos(theta)]])\n",
    "    rbt_matrix = np.column_stack((rotation_matrix, translate))\n",
    "    rbt_matrix = np.row_stack((rbt_matrix, np.array([0,0, 1])))\n",
    "\n",
    "    Points_h = np.column_stack((Points, np.array([1, 1, 1, 1])))\n",
    "\n",
    "    transformed_points_h = np.matmul(rbt_matrix, Points_h.T).T\n",
    "\n",
    "    transformed_points = transformed_points_h[:, :2]\n",
    "    \n",
    "    plot_polygon(transformed_points)\n",
    "    \n",
    "    return transformed_points\n",
    "\n",
    "    \n",
    "style = {'description_width': 'initial'}\n",
    "\n",
    "_ = widgets.interact(rigid_body_transform, \n",
    "                 theta = widgets.FloatSlider(value = 0, min = 0, max = np.pi, description = 'theta'),\n",
    "                      translate_x = widgets.FloatSlider(value = 0, min = -2, max = 2, description = 'x'),\n",
    "                      translate_y = widgets.FloatSlider(value = 0, min = -2, max = 2, description = 'y'),\n",
    "                     style = style)"
   ]
  },
  {
   "cell_type": "markdown",
   "metadata": {},
   "source": [
    "# Similarity"
   ]
  },
  {
   "cell_type": "code",
   "execution_count": 190,
   "metadata": {},
   "outputs": [
    {
     "data": {
      "application/vnd.jupyter.widget-view+json": {
       "model_id": "d522fb63c29e43bdb099cd4b3bc536f0",
       "version_major": 2,
       "version_minor": 0
      },
      "text/plain": [
       "interactive(children=(FloatSlider(value=0.0, description='theta', max=3.141592653589793, min=-3.14159265358979…"
      ]
     },
     "metadata": {},
     "output_type": "display_data"
    }
   ],
   "source": [
    "def  similarity_transform(theta, scale, translate_x, translate_y):\n",
    "    translate = np.array([translate_x, translate_y])\n",
    "    rotation_matrix = np.array([[scale * np.cos(theta), scale * -np.sin(theta)], [scale * np.sin(theta), scale * np.cos(theta)]])\n",
    "    rbt_matrix = np.column_stack((rotation_matrix, translate))\n",
    "    rbt_matrix = np.row_stack((rbt_matrix, np.array([0,0, 1])))\n",
    "\n",
    "    Points_h = np.column_stack((Points, np.array([1, 1, 1, 1])))\n",
    "\n",
    "    transformed_points_h = np.matmul(rbt_matrix, Points_h.T).T\n",
    "\n",
    "    transformed_points = transformed_points_h[:, :2]\n",
    "    \n",
    "    plot_polygon(transformed_points)\n",
    "    \n",
    "    return transformed_points\n",
    "\n",
    "    \n",
    "style = {'description_width': 'initial'}\n",
    "\n",
    "_ = widgets.interact(similarity_transform, \n",
    "                 theta = widgets.FloatSlider(value = 0, min = -np.pi, max = np.pi, description = 'theta'),\n",
    "                        scale = widgets.FloatSlider(value = 1, min = 1, max = 2, description = 'scale'),\n",
    "                      translate_x = widgets.FloatSlider(value = 0, min = -2, max = 2, description = 'x'),\n",
    "                      translate_y = widgets.FloatSlider(value = 0, min = -2, max = 2, description = 'y'),\n",
    "                     style = style)"
   ]
  },
  {
   "cell_type": "markdown",
   "metadata": {},
   "source": [
    "# Affine"
   ]
  },
  {
   "cell_type": "code",
   "execution_count": 191,
   "metadata": {},
   "outputs": [
    {
     "data": {
      "application/vnd.jupyter.widget-view+json": {
       "model_id": "27d355862255492a864cc5a6215b1ce6",
       "version_major": 2,
       "version_minor": 0
      },
      "text/plain": [
       "interactive(children=(FloatSlider(value=0.0, description='theta', max=3.141592653589793, min=-3.14159265358979…"
      ]
     },
     "metadata": {},
     "output_type": "display_data"
    }
   ],
   "source": [
    "def  affine_transform(theta, scale, sh_x, sh_y, translate_x, translate_y):\n",
    "    translate = np.array([translate_x, translate_y])\n",
    "    rotation_matrix = np.array([[scale * np.cos(theta), scale * -np.sin(theta)], [scale * np.sin(theta), scale * np.cos(theta)]])\n",
    "    t_matrix = np.column_stack((rotation_matrix, translate))\n",
    "    t_matrix = np.row_stack((t_matrix, np.array([0,0, 1])))\n",
    "    \n",
    "    shear_matrix = np.array([[1, sh_x, 0], [sh_y, 1, 0], [0, 0, 1]])\n",
    "    \n",
    "    t_matrix = np.matmul(t_matrix, shear_matrix)\n",
    "                            \n",
    "    Points_h = np.column_stack((Points, np.array([1, 1, 1, 1])))\n",
    "\n",
    "    transformed_points_h = np.matmul(t_matrix, Points_h.T).T\n",
    "\n",
    "    transformed_points = transformed_points_h[:, :2]\n",
    "    \n",
    "    plot_polygon(transformed_points)\n",
    "    \n",
    "    return transformed_points\n",
    "\n",
    "    \n",
    "style = {'description_width': 'initial'}\n",
    "\n",
    "_ = widgets.interact(affine_transform, \n",
    "                 theta = widgets.FloatSlider(value = 0, min = -np.pi, max = np.pi, description = 'theta'),\n",
    "                        scale = widgets.FloatSlider(value = 1, min = 1, max = 2, description = 'scale'),\n",
    "                        sh_x = widgets.FloatSlider(value = 0, min = 0, max = 2, description = 'sh_x'),\n",
    "                        sh_y = widgets.FloatSlider(value = 0, min = 0, max = 2, description = 'sh_y'),\n",
    "                        translate_x = widgets.FloatSlider(value = 0, min = -2, max = 2, description = 'x_translate'),\n",
    "                        translate_y = widgets.FloatSlider(value = 0, min = -2, max = 2, description = 'y_translate'),\n",
    "                        style = style)"
   ]
  },
  {
   "cell_type": "markdown",
   "metadata": {},
   "source": [
    "# Projective matrix"
   ]
  },
  {
   "cell_type": "code",
   "execution_count": 192,
   "metadata": {},
   "outputs": [
    {
     "data": {
      "application/vnd.jupyter.widget-view+json": {
       "model_id": "c1929b30d68b4d70b21ae0fc42b51c41",
       "version_major": 2,
       "version_minor": 0
      },
      "text/plain": [
       "interactive(children=(FloatSlider(value=1.0, description='h1', max=2.0), FloatSlider(value=0.0, description='h…"
      ]
     },
     "metadata": {},
     "output_type": "display_data"
    }
   ],
   "source": [
    "def  projective_transform(h1, h2, h3, h4, h5, h6, h7, h8):\n",
    "    \n",
    "    t_matrix = np.array([[h1, h2, h3], [h4, h5, h6], [h7, h8, 1]])\n",
    "    \n",
    "                            \n",
    "    Points_h = np.column_stack((Points, np.array([1, 1, 1, 1])))\n",
    "\n",
    "    transformed_points_h = np.matmul(t_matrix, Points_h.T).T\n",
    "    transformed_points_h = (transformed_points_h.T / transformed_points_h[:, 2]).T\n",
    "    transformed_points = transformed_points_h[:, :2]\n",
    "    \n",
    "    \n",
    "    plot_polygon(transformed_points)\n",
    "    \n",
    "    return transformed_points\n",
    "\n",
    "    \n",
    "style = {'description_width': 'initial'}\n",
    "\n",
    "_ = widgets.interact(projective_transform, \n",
    "                        h1 = widgets.FloatSlider(value = 1, min = 0, max = 2, description = 'h1'),\n",
    "                        h2 = widgets.FloatSlider(value = 0, min = 0, max = 2, description = 'h2'),\n",
    "                        h3 = widgets.FloatSlider(value = 0, min = 0, max = 2, description = 'h3'),\n",
    "                        h4 = widgets.FloatSlider(value = 0, min = 0, max = 2, description = 'h4'),\n",
    "                        h5 = widgets.FloatSlider(value = 1, min = 0, max = 2, description = 'h5'),\n",
    "                        h6 = widgets.FloatSlider(value = 0, min = 0, max = 2, description = 'h6'),\n",
    "                        h7 = widgets.FloatSlider(value = 0, min = -1, max = 1, description = 'h7'),\n",
    "                        h8 = widgets.FloatSlider(value = 0, min = -1, max = 1, description = 'h8'),\n",
    "                        style = style)"
   ]
  },
  {
   "cell_type": "markdown",
   "metadata": {},
   "source": [
    "# length, angle and parallelism check"
   ]
  },
  {
   "cell_type": "code",
   "execution_count": 206,
   "metadata": {},
   "outputs": [],
   "source": [
    "def compute_length(points):\n",
    "    adj_points = np.roll(points, -1, axis = 0)\n",
    "    lengths = np.linalg.norm(points - adj_points, axis = 1)\n",
    "    return lengths\n",
    "    \n",
    "def compute_angle(points):\n",
    "    angles = np.zeros(points.shape[0])\n",
    "    for i in range(points.shape[0]):\n",
    "        point = points[i]\n",
    "        adj1 = points[i - 1]\n",
    "        adj2 = points[(i + 1) % 4]\n",
    "        \n",
    "        vector1 = point - adj1\n",
    "        vector2 = point - adj2\n",
    "        \n",
    "        angle = np.arccos(np.inner(vector1, vector2) / np.linalg.norm(vector1) / np.linalg.norm(vector2))\n",
    "        angles[i] = angle * 180 / np.pi\n",
    "    return angles\n",
    "    \n",
    "\n",
    "    "
   ]
  },
  {
   "cell_type": "code",
   "execution_count": 215,
   "metadata": {},
   "outputs": [],
   "source": [
    "def compare_lengths(points1, points2):\n",
    "    lengths1 = compute_length(points1)\n",
    "    lengths2 = compute_length(points2)\n",
    "    print(lengths1, lengths2)\n",
    "    \n",
    "    if np.all(lengths1 == lengths2):\n",
    "        return True\n",
    "    return False\n",
    "\n",
    "def compare_angles(points1, points2):\n",
    "    angles1 = compute_angle(points1)\n",
    "    angles2 = compute_angle(points2)\n",
    "    \n",
    "    print(angles1, angles2)\n",
    "    \n",
    "    if np.all(angles1 == angles2):\n",
    "        return True\n",
    "    return False\n",
    "\n",
    "def check_parallelism(points1, points2):\n",
    "    line11 = points1[0] - points1[1]\n",
    "    line12 = points1[1] - points1[2]\n",
    "    line13 = points1[2] - points1[3]\n",
    "    line14 = points1[3] - points1[0]\n",
    "    \n",
    "    line21 = points2[0] - points2[1]\n",
    "    line22 = points2[1] - points2[2]\n",
    "    line23 = points2[2] - points2[3]\n",
    "    line24 = points2[3] - points2[0]\n",
    "    \n",
    "    angle11 = np.arccos(np.inner(line11, line13) / np.linalg.norm(line11) / np.linalg.norm(line13) )\n",
    "    angle12 = np.arccos(np.inner(line12, line14) / np.linalg.norm(line12) / np.linalg.norm(line14) )\n",
    "    \n",
    "    angle21 = np.arccos(np.inner(line21, line23) / np.linalg.norm(line21) / np.linalg.norm(line23) )\n",
    "    angle22 = np.arccos(np.inner(line22, line24) / np.linalg.norm(line22) / np.linalg.norm(line24) )\n",
    "    \n",
    "    if angle11 == angle12 and angle21 == angle22:\n",
    "        return True\n",
    "    return False\n",
    "    \n",
    "    "
   ]
  },
  {
   "cell_type": "code",
   "execution_count": null,
   "metadata": {},
   "outputs": [],
   "source": []
  },
  {
   "cell_type": "code",
   "execution_count": 197,
   "metadata": {},
   "outputs": [
    {
     "data": {
      "image/png": "[encoded data removed]",
      "text/plain": [
       "<Figure size 432x288 with 1 Axes>"
      ]
     },
     "metadata": {
      "needs_background": "light"
     },
     "output_type": "display_data"
    },
    {
     "data": {
      "image/png": "[encoded data removed]",
      "text/plain": [
       "<Figure size 432x288 with 1 Axes>"
      ]
     },
     "metadata": {
      "needs_background": "light"
     },
     "output_type": "display_data"
    }
   ],
   "source": [
    "original_points = Points\n",
    "\n",
    "rigid_body_points = rigid_body_transform(np.pi / 3, 1, 2)\n",
    "projective_points = projective_transform(0.5, 0.3, 0, 0.5, -0.3, 1, 0.1, 0.1)"
   ]
  },
  {
   "cell_type": "code",
   "execution_count": 217,
   "metadata": {},
   "outputs": [
    {
     "name": "stdout",
     "output_type": "stream",
     "text": [
      "[2. 2. 2. 2.] [2. 2. 2. 2.]\n",
      "True\n",
      "[2. 2. 2. 2.] [1.13137085 1.17945373 0.92616293 1.44222051]\n",
      "False\n"
     ]
    }
   ],
   "source": [
    "print(compare_lengths(original_points, rigid_body_points))\n",
    "print(compare_lengths(original_points, projective_points))"
   ]
  },
  {
   "cell_type": "code",
   "execution_count": 218,
   "metadata": {},
   "outputs": [
    {
     "name": "stdout",
     "output_type": "stream",
     "text": [
      "[90. 90. 90. 90.] [90. 90. 90. 90.]\n",
      "True\n",
      "[90. 90. 90. 90.] [ 78.69006753  92.29061004 102.45295279  86.56636964]\n",
      "False\n"
     ]
    }
   ],
   "source": [
    "print(compare_angles(original_points, rigid_body_points))\n",
    "print(compare_angles(original_points, projective_points))"
   ]
  },
  {
   "cell_type": "code",
   "execution_count": 216,
   "metadata": {},
   "outputs": [
    {
     "name": "stdout",
     "output_type": "stream",
     "text": [
      "True\n",
      "False\n"
     ]
    }
   ],
   "source": [
    "print(check_parallelism(original_points, rigid_body_points))\n",
    "print(check_parallelism(original_points, projective_points))"
   ]
  },
  {
   "cell_type": "code",
   "execution_count": null,
   "metadata": {},
   "outputs": [],
   "source": []
  }
 ],
 "metadata": {
  "kernelspec": {
   "display_name": "Python 3",
   "language": "python",
   "name": "python3"
  },
  "language_info": {
   "codemirror_mode": {
    "name": "ipython",
    "version": 3
   },
   "file_extension": ".py",
   "mimetype": "text/x-python",
   "name": "python",
   "nbconvert_exporter": "python",
   "pygments_lexer": "ipython3",
   "version": "3.8.3"
  }
 },
 "nbformat": 4,
 "nbformat_minor": 4
}
